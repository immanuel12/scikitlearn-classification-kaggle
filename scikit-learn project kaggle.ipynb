{
 "metadata": {
  "name": "",
  "signature": "sha256:4cc6fa884f1331ef126cf6699e812b2f666aaca0bf3dcea2e41c4d6af86a5e70"
 },
 "nbformat": 3,
 "nbformat_minor": 0,
 "worksheets": [
  {
   "cells": [
    {
     "cell_type": "heading",
     "level": 1,
     "metadata": {},
     "source": [
      "Data-Science scikit-learn project from Kaggle"
     ]
    },
    {
     "cell_type": "markdown",
     "metadata": {},
     "source": [
      "This is a Kaggle competition to test out different classification methods provided in scikit-learn"
     ]
    },
    {
     "cell_type": "markdown",
     "metadata": {},
     "source": [
      "Link to the competition: http://www.kaggle.com/c/data-science-london-scikit-learn"
     ]
    },
    {
     "cell_type": "code",
     "collapsed": false,
     "input": [
      "import pandas as pd\n",
      "import numpy as np\n",
      "import matplotlib as plt\n",
      "from sklearn import cross_validation as cv\n",
      "from sklearn.decomposition import PCA\n",
      "from sklearn import grid_search as gs\n",
      "from sklearn import metrics\n",
      "from sklearn import preprocessing as pp\n",
      "from sklearn import svm\n",
      "from sklearn import ensemble as es\n",
      "from sklearn.linear_model import SGDClassifier\n",
      "from sklearn.svm import LinearSVC"
     ],
     "language": "python",
     "metadata": {},
     "outputs": [],
     "prompt_number": 3
    },
    {
     "cell_type": "heading",
     "level": 2,
     "metadata": {},
     "source": [
      "Load the data"
     ]
    },
    {
     "cell_type": "code",
     "collapsed": false,
     "input": [
      "train = np.genfromtxt('train.csv',delimiter = ',') \n",
      "trainlabel = np.genfromtxt('trainLabels.csv',delimiter = ',')\n",
      "test = np.genfromtxt('test.csv',delimiter = ',')"
     ],
     "language": "python",
     "metadata": {},
     "outputs": [],
     "prompt_number": 2
    },
    {
     "cell_type": "markdown",
     "metadata": {},
     "source": [
      "Look at the shape of these numpy arrays"
     ]
    },
    {
     "cell_type": "code",
     "collapsed": false,
     "input": [
      "print 'the shape of the training dataset is {} by {}'.format(train.shape[0],train.shape[1])\n",
      "print 'the shape of the training label is {} by {}'.format(trainlabel.reshape(-1,1).shape[0],trainlabel.reshape(-1,1).shape[1])\n",
      "print 'the shape of the test dataset is {} by {}'.format(test.shape[0],test.shape[1])"
     ],
     "language": "python",
     "metadata": {},
     "outputs": [
      {
       "output_type": "stream",
       "stream": "stdout",
       "text": [
        "the shape of the training dataset is 1000 by 40\n",
        "the shape of the training label is 1000 by 1\n",
        "the shape of the test dataset is 9000 by 40\n"
       ]
      }
     ],
     "prompt_number": 10
    },
    {
     "cell_type": "heading",
     "level": 2,
     "metadata": {},
     "source": [
      "Linear SVC"
     ]
    },
    {
     "cell_type": "code",
     "collapsed": false,
     "input": [
      "clf = LinearSVC()\n",
      "clf.fit(train,trainlabel)\n",
      "pred1 = clf.predict(test).astype(np.int)"
     ],
     "language": "python",
     "metadata": {},
     "outputs": [],
     "prompt_number": 11
    },
    {
     "cell_type": "markdown",
     "metadata": {},
     "source": [
      "this generate a final score of 0.80477 on Kaggle, we define a function to write csv"
     ]
    },
    {
     "cell_type": "code",
     "collapsed": false,
     "input": [
      "def writepred(filename,pred):\n",
      "    tmp = pd.DataFrame({'Id':xrange(1,pred.shape[0]+1),'Solution':pred})\n",
      "    tmp.set_index(['Id'])\n",
      "    tmp.to_csv(filename,index = False)"
     ],
     "language": "python",
     "metadata": {},
     "outputs": [],
     "prompt_number": 12
    },
    {
     "cell_type": "code",
     "collapsed": false,
     "input": [
      "writepred('pred1.csv',pred1)"
     ],
     "language": "python",
     "metadata": {},
     "outputs": []
    },
    {
     "cell_type": "heading",
     "level": 2,
     "metadata": {},
     "source": [
      "Use PCA for dimension reduction"
     ]
    },
    {
     "cell_type": "code",
     "collapsed": false,
     "input": [
      "def pca_decomp(train,test,k):\n",
      "    pca = PCA(n_components = k,whiten = False)\n",
      "    train_pca = pca.fit_transform(train)\n",
      "    test_pca = pca.transform(test)\n",
      "    score = pca.explained_variance_ratio_.sum()\n",
      "    print 'the explained variance is {}'.format(score)\n",
      "    return train_pca,test_pca\n",
      "    \n",
      "train_pca,test_pca = pca_decomp(train,test,20)"
     ],
     "language": "python",
     "metadata": {},
     "outputs": [
      {
       "output_type": "stream",
       "stream": "stdout",
       "text": [
        "the explained variance is 0.891570831369\n"
       ]
      }
     ],
     "prompt_number": 13
    },
    {
     "cell_type": "heading",
     "level": 2,
     "metadata": {},
     "source": [
      "Define a set of functions to do cross-validation and show the precision/recall/F-1 score of prediction."
     ]
    },
    {
     "cell_type": "code",
     "collapsed": false,
     "input": [
      "def traintestsplit(X_pca,y,testsize = 0.1):\n",
      "    \"\"\"\n",
      "    X_pca are the transformed training data, \n",
      "    \"\"\"\n",
      "    return(cv.train_test_split(X_pca,y,test_size = testsize,random_state = 0))\n",
      "    \n",
      "def grid_search(y_data,params,clf):\n",
      "\n",
      "    cvk = cv.StratifiedKFold(y_data, n_folds=5)\n",
      "    return gs.GridSearchCV(clf, params, cv=cvk)\n",
      "\n",
      "def traincv(features, result,params,clf):\n",
      "    \"\"\" Use features and result to train Support Vector Machine\"\"\"\n",
      "    clf = grid_search(result,params,clf)\n",
      "    clf.fit(features, result)\n",
      "    return clf\n",
      "    \n",
      "def predict(clf, features):\n",
      "    \"\"\" Predict labels from trained CLF \"\"\"\n",
      "    return clf.predict(features).astype(np.int)\n",
      "\n",
      "def show_score(clf, X_test, y_test):\n",
      "    \"\"\" Scores are computed on the test set \"\"\"\n",
      "    y_pred = predict(clf, X_test)\n",
      "    print metrics.classification_report(y_test.astype(np.int), y_pred)"
     ],
     "language": "python",
     "metadata": {},
     "outputs": [],
     "prompt_number": 14
    },
    {
     "cell_type": "code",
     "collapsed": false,
     "input": [
      "c_range = np.logspace(-1,2,20)\n",
      "params = [{'C':c_range}]\n",
      "\n",
      "clf2 = LinearSVC()\n",
      "clf2 = traincv(train_pca,trainlabel,params,clf2) \n",
      "print '==============================================='\n",
      "print 'the best parameters are: ',clf2.best_params_\n",
      "print '==============================================='\n",
      "show_score(clf2,train_pca,trainlabel)"
     ],
     "language": "python",
     "metadata": {},
     "outputs": [
      {
       "output_type": "stream",
       "stream": "stdout",
       "text": [
        "===============================================\n",
        "the best parameters are:  {'C': 0.10000000000000001}\n",
        "===============================================\n",
        "             precision    recall  f1-score   support\n",
        "\n",
        "          0       0.83      0.81      0.82       490\n",
        "          1       0.82      0.84      0.83       510\n",
        "\n",
        "avg / total       0.82      0.82      0.82      1000\n",
        "\n"
       ]
      }
     ],
     "prompt_number": 15
    },
    {
     "cell_type": "code",
     "collapsed": false,
     "input": [
      "pred2 = predict(clf2,test_pca)\n",
      "writepred('pred2.csv',pred2)"
     ],
     "language": "python",
     "metadata": {},
     "outputs": []
    },
    {
     "cell_type": "markdown",
     "metadata": {},
     "source": [
      "this generates a final score of 0.81523, slight improvement over the first one"
     ]
    },
    {
     "cell_type": "heading",
     "level": 2,
     "metadata": {},
     "source": [
      "SVC with radial kernel"
     ]
    },
    {
     "cell_type": "code",
     "collapsed": false,
     "input": [
      "c_range = np.logspace(0,4,20)\n",
      "gamma_range = np.logspace(-2.0,0,20)\n",
      "\n",
      "params2 = [{'kernel': ['rbf'],'gamma':gamma_range,'C':c_range}]\n",
      "\n",
      "clf3 = svm.SVC()\n",
      "clf3 = traincv(train_pca,trainlabel,params2,clf3)\n",
      "\n",
      "# show the performance on the training set\n",
      "show_score(clf3,train_pca,trainlabel)"
     ],
     "language": "python",
     "metadata": {},
     "outputs": [
      {
       "output_type": "stream",
       "stream": "stdout",
       "text": [
        "             precision    recall  f1-score   support\n",
        "\n",
        "          0       1.00      1.00      1.00       490\n",
        "          1       1.00      1.00      1.00       510\n",
        "\n",
        "avg / total       1.00      1.00      1.00      1000\n",
        "\n"
       ]
      }
     ],
     "prompt_number": 20
    },
    {
     "cell_type": "code",
     "collapsed": false,
     "input": [
      "pred3 = predict(clf3,test_pca)\n",
      "writepred('pred15.csv',pred3)"
     ],
     "language": "python",
     "metadata": {},
     "outputs": [],
     "prompt_number": 21
    },
    {
     "cell_type": "markdown",
     "metadata": {},
     "source": [
      "This generates a final score of 0.92796, significant improvement over the linear models"
     ]
    },
    {
     "cell_type": "heading",
     "level": 2,
     "metadata": {},
     "source": [
      "Feature selection using random forest"
     ]
    },
    {
     "cell_type": "markdown",
     "metadata": {},
     "source": [
      "First standardize the features using pp.scale"
     ]
    },
    {
     "cell_type": "code",
     "collapsed": false,
     "input": [
      "train_scaled = pp.scale(train)\n",
      "test_scaled = pp.scale(test)"
     ],
     "language": "python",
     "metadata": {},
     "outputs": [],
     "prompt_number": 23
    },
    {
     "cell_type": "code",
     "collapsed": false,
     "input": [
      "selector = es.RandomForestClassifier(random_state = 123)\n",
      "selector.fit(train_scaled,trainlabel)\n",
      "importance = selector.feature_importances_\n",
      "\n",
      "# only features with importance score that is larger than 0.02 are chosen\n",
      "train_rf = selector.transform(train_scaled,threshold = 0.02)\n",
      "test_rf = selector.transform(test_scaled,0.02)\n",
      "\n",
      "clf4 = svm.SVC()\n",
      "clf4 = traincv(train_rf,trainlabel,params2,clf4)\n",
      "\n",
      "show_score(clf4,train_rf,trainlabel)"
     ],
     "language": "python",
     "metadata": {},
     "outputs": [
      {
       "output_type": "stream",
       "stream": "stdout",
       "text": [
        "             precision    recall  f1-score   support\n",
        "\n",
        "          0       0.99      1.00      0.99       490\n",
        "          1       1.00      0.99      0.99       510\n",
        "\n",
        "avg / total       0.99      0.99      0.99      1000\n",
        "\n"
       ]
      }
     ],
     "prompt_number": 24
    },
    {
     "cell_type": "code",
     "collapsed": false,
     "input": [
      "pred4 = predict(clf4,test_rf)\n",
      "writepred('pred16.csv',pred4)"
     ],
     "language": "python",
     "metadata": {},
     "outputs": [],
     "prompt_number": 25
    },
    {
     "cell_type": "markdown",
     "metadata": {},
     "source": [
      "This generates a final score of 0.94934."
     ]
    }
   ],
   "metadata": {}
  }
 ]
}